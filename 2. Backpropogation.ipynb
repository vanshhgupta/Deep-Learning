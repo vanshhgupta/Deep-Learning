{
 "cells": [
  {
   "cell_type": "markdown",
   "id": "d141f7b2",
   "metadata": {},
   "source": [
    "Backpropogation code without using keras"
   ]
  },
  {
   "cell_type": "code",
   "execution_count": 1,
   "id": "ec563945",
   "metadata": {},
   "outputs": [],
   "source": [
    "import numpy as np\n",
    "import pandas as pd"
   ]
  },
  {
   "cell_type": "markdown",
   "id": "68c0e51f",
   "metadata": {},
   "source": [
    "REGRESSION PROBLEM"
   ]
  },
  {
   "cell_type": "code",
   "execution_count": 4,
   "id": "4749968f",
   "metadata": {},
   "outputs": [
    {
     "data": {
      "text/html": [
       "<div>\n",
       "<style scoped>\n",
       "    .dataframe tbody tr th:only-of-type {\n",
       "        vertical-align: middle;\n",
       "    }\n",
       "\n",
       "    .dataframe tbody tr th {\n",
       "        vertical-align: top;\n",
       "    }\n",
       "\n",
       "    .dataframe thead th {\n",
       "        text-align: right;\n",
       "    }\n",
       "</style>\n",
       "<table border=\"1\" class=\"dataframe\">\n",
       "  <thead>\n",
       "    <tr style=\"text-align: right;\">\n",
       "      <th></th>\n",
       "      <th>cgpa</th>\n",
       "      <th>score</th>\n",
       "      <th>lpa</th>\n",
       "    </tr>\n",
       "  </thead>\n",
       "  <tbody>\n",
       "    <tr>\n",
       "      <th>0</th>\n",
       "      <td>8</td>\n",
       "      <td>8</td>\n",
       "      <td>4</td>\n",
       "    </tr>\n",
       "    <tr>\n",
       "      <th>1</th>\n",
       "      <td>7</td>\n",
       "      <td>9</td>\n",
       "      <td>5</td>\n",
       "    </tr>\n",
       "    <tr>\n",
       "      <th>2</th>\n",
       "      <td>6</td>\n",
       "      <td>10</td>\n",
       "      <td>6</td>\n",
       "    </tr>\n",
       "    <tr>\n",
       "      <th>3</th>\n",
       "      <td>5</td>\n",
       "      <td>12</td>\n",
       "      <td>7</td>\n",
       "    </tr>\n",
       "  </tbody>\n",
       "</table>\n",
       "</div>"
      ],
      "text/plain": [
       "   cgpa  score  lpa\n",
       "0     8      8    4\n",
       "1     7      9    5\n",
       "2     6     10    6\n",
       "3     5     12    7"
      ]
     },
     "execution_count": 4,
     "metadata": {},
     "output_type": "execute_result"
    }
   ],
   "source": [
    "df = pd.DataFrame([[8,8,4], [7,9,5],[6,10,6], [5,12,7]], columns=['cgpa', 'score', 'lpa'])\n",
    "df"
   ]
  },
  {
   "cell_type": "markdown",
   "id": "57064a54",
   "metadata": {},
   "source": [
    "lets take an architecture with 2 inputs, 2 nodes and 1 output = [2,2,1]"
   ]
  },
  {
   "cell_type": "markdown",
   "id": "2b9efab1",
   "metadata": {},
   "source": [
    "function to initialise the parameters - architecture"
   ]
  },
  {
   "cell_type": "code",
   "execution_count": 11,
   "id": "aab256fe",
   "metadata": {},
   "outputs": [],
   "source": [
    "def initialise_parameters(layers):\n",
    "\n",
    "    np.random.seed(3)\n",
    "    parameters={}\n",
    "    L = len(layers)\n",
    "\n",
    "    for l in range(1,L):\n",
    "        parameters['W' + str(l)] = np.ones((layers[l-1], layers[l]))*0.1\n",
    "        parameters['b' + str(l)] = np.zeros((layers[l], 1))\n",
    "\n",
    "    return parameters"
   ]
  },
  {
   "cell_type": "code",
   "execution_count": null,
   "id": "29229bb0",
   "metadata": {},
   "outputs": [
    {
     "data": {
      "text/plain": [
       "{'W1': array([[0.1, 0.1],\n",
       "        [0.1, 0.1]]),\n",
       " 'b1': array([[0.],\n",
       "        [0.]]),\n",
       " 'W2': array([[0.1],\n",
       "        [0.1]]),\n",
       " 'b2': array([[0.]])}"
      ]
     },
     "execution_count": 12,
     "metadata": {},
     "output_type": "execute_result"
    }
   ],
   "source": [
    "initialise_parameters([2,2,1])"
   ]
  },
  {
   "cell_type": "code",
   "execution_count": 14,
   "id": "b64c9e9e",
   "metadata": {},
   "outputs": [],
   "source": [
    "def linear_rule(output_prev, W, b):\n",
    "    Z= np.dot(W.T, output_prev)+ b\n",
    "    \n",
    "    return Z"
   ]
  },
  {
   "cell_type": "markdown",
   "id": "b9aebcc1",
   "metadata": {},
   "source": [
    "FOR FORWARD PROPOGATION"
   ]
  },
  {
   "cell_type": "code",
   "execution_count": null,
   "id": "d426247d",
   "metadata": {},
   "outputs": [],
   "source": [
    "def forward_layer(X, parameter):\n",
    "\n",
    "    A=X\n",
    "    L= len(parameter)//2\n",
    "    \n",
    "    for l in range(1,L+1):\n",
    "        A_"
   ]
  }
 ],
 "metadata": {
  "kernelspec": {
   "display_name": "Python 3",
   "language": "python",
   "name": "python3"
  },
  "language_info": {
   "codemirror_mode": {
    "name": "ipython",
    "version": 3
   },
   "file_extension": ".py",
   "mimetype": "text/x-python",
   "name": "python",
   "nbconvert_exporter": "python",
   "pygments_lexer": "ipython3",
   "version": "3.12.3"
  }
 },
 "nbformat": 4,
 "nbformat_minor": 5
}
